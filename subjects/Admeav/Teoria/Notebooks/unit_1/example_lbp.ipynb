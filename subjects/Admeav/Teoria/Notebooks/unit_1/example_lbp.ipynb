{
  "cells": [
    {
      "cell_type": "markdown",
      "metadata": {
        "id": "sSlujR5yyw47"
      },
      "source": [
        "\n",
        "# Local Binary Patterns\n",
        "\n",
        "This example shows how to compute the Local Binary Patterns (lbp) of one image.\n",
        "\n",
        "Local Binary Patterns (LBP) is a texture descriptor used in image processing and computer vision for analyzing patterns or textures within an image. It works by comparing each pixel with its surrounding neighbors and encoding this local relationship as a binary number, which is then converted into a decimal value. This value serves as a feature that describes the texture in the local region of the image.\n",
        "LBP was first described in 1994 by Ojala et al.[1]\n",
        "\n",
        "## References\n",
        " [1] T. Ojala, M. Pietikäinen, and D. Harwood (1996), \"A Comparative Study of Texture Measures with Classification Based on Feature Distributions\", Pattern Recognition, vol. 29, pp. 51-59."
      ]
    },
    {
      "cell_type": "code",
      "source": [
        "import cv2\n",
        "import numpy as np\n",
        "import matplotlib.pyplot as plt\n",
        "from skimage.feature import local_binary_pattern\n",
        "\n",
        "from google.colab import drive\n",
        "\n",
        "# Mount the drive folder\n",
        "drive.mount('/content/drive') #(X)\n",
        "\n",
        "\n",
        "\n",
        "\n",
        "# Function to compute and normalize the histogram\n",
        "def calculate_histogram(lbp):\n",
        "    # Get unique patterns and their frequency\n",
        "    hist, _ = np.histogram(lbp.ravel(), bins=np.arange(0, lbp.max() + 1), range=(0, lbp.max() + 1))\n",
        "\n",
        "    # Normalize the histogram by dividing by the total number of pixels\n",
        "    hist = hist.astype(\"float\")\n",
        "    hist /= (hist.sum() + 1e-6)  # avoid division by zero\n",
        "\n",
        "    return hist\n",
        "\n",
        "# Load the image in grayscale\n",
        "# Reading the image with OPENCV\n",
        "\n",
        "# Upload your photo\n",
        "#img_path = \"/content/drive/My Drive/ADVIDEO/foto_valery.jpg\"\n",
        "\n",
        "image = cv2.imread(img_path, cv2.IMREAD_GRAYSCALE)\n",
        "\n",
        "# LBP parameters\n",
        "radius = 1  # Radius of the circular neighborhood\n",
        "n_points = 8 * radius  # Number of points in the circular neighborhood\n",
        "\n",
        "# Compute the LBP\n",
        "lbp = local_binary_pattern(image, n_points, radius, method='uniform')\n",
        "\n",
        "# Compute the LBP histogram\n",
        "hist_lbp = calculate_histogram(lbp)\n",
        "\n",
        "# Visualize the original image, LBP image, and the histogram\n",
        "fig, (ax1, ax2, ax3) = plt.subplots(1, 3, figsize=(18, 6))\n",
        "\n",
        "# Show the original image\n",
        "ax1.imshow(image, cmap='gray')\n",
        "ax1.set_title('Original Image')\n",
        "ax1.axis('off')\n",
        "\n",
        "# Show the LBP image\n",
        "ax2.imshow(lbp, cmap='gray')\n",
        "ax2.set_title('LBP Image')\n",
        "ax2.axis('off')\n",
        "\n",
        "# Show the LBP histogram\n",
        "ax3.bar(np.arange(len(hist_lbp)), hist_lbp, width=0.8, color='blue', edgecolor='black')\n",
        "ax3.set_title('LBP Histogram')\n",
        "ax3.set_xlabel('LBP Patterns')\n",
        "ax3.set_ylabel('Normalized Frequency')\n",
        "\n",
        "plt.tight_layout()\n",
        "plt.show()\n"
      ],
      "metadata": {
        "id": "yVLR-n6HzQEU"
      },
      "execution_count": null,
      "outputs": []
    },
    {
      "cell_type": "markdown",
      "source": [
        "**EXERCISE**\n",
        "\n",
        "\n",
        "Load the 3 histological images provided. Obtain their LBPs and make a study of the LBP parameters to obtain a better differentiation between the different grades of cancer from the biopsies."
      ],
      "metadata": {
        "id": "cEGU2f9J33sj"
      }
    }
  ],
  "metadata": {
    "kernelspec": {
      "display_name": "Python 3",
      "language": "python",
      "name": "python3"
    },
    "language_info": {
      "codemirror_mode": {
        "name": "ipython",
        "version": 3
      },
      "file_extension": ".py",
      "mimetype": "text/x-python",
      "name": "python",
      "nbconvert_exporter": "python",
      "pygments_lexer": "ipython3",
      "version": "3.12.3"
    },
    "colab": {
      "provenance": []
    }
  },
  "nbformat": 4,
  "nbformat_minor": 0
}