{
  "cells": [
    {
      "cell_type": "markdown",
      "metadata": {
        "id": "kCqjfl7zSxSM"
      },
      "source": [
        "\n",
        "# SIFT feature detector and descriptor extractor\n",
        "\n",
        "This example demonstrates the SIFT feature detection and its description\n",
        "algorithm.\n",
        "\n",
        "The scale-invariant feature transform (SIFT) [1]_ was published in 1999 and is\n",
        "still one of the most popular feature detectors available, as its promises to\n",
        "be \"invariant to image scaling, translation, and rotation, and partially\n",
        "in-variant to illumination changes and affine or 3D projection\" [2]_. Its\n",
        "biggest drawback is its runtime, that's said to be \"at two orders of\n",
        "magnitude\" [3]_ slower than ORB, which makes it unsuitable for real-time\n",
        "applications.\n",
        "\n",
        "## References\n",
        ".. [1] https://en.wikipedia.org/wiki/Scale-invariant_feature_transform\n",
        "\n",
        ".. [2] D.G. Lowe. \"Object recognition from local scale-invariant\n",
        "       features\", Proceedings of the Seventh IEEE International\n",
        "       Conference on Computer Vision, 1999, vol.2, pp. 1150-1157.\n",
        "       :DOI:`10.1109/ICCV.1999.790410`\n",
        "\n",
        ".. [3] Ethan Rublee, Vincent Rabaud, Kurt Konolige and Gary Bradski\n",
        "       \"ORB: An efficient alternative to SIFT and SURF\"\n",
        "       http://www.gwylab.com/download/ORB_2012.pdf\n"
      ]
    },
    {
      "cell_type": "code",
      "source": [
        "import numpy as np\n",
        "import cv2\n",
        "from google.colab import drive\n",
        "import matplotlib.pyplot as plt\n",
        "\n",
        "# Mount Google Drive\n",
        "drive.mount('/content/drive')\n",
        "\n",
        "# Load the two images\n",
        "img1 = cv2.imread('/content/drive/My Drive/ADVIDEO/panoram1.jpg')\n",
        "img2 = cv2.imread('/content/drive/My Drive/ADVIDEO/panoram2.jpg')\n",
        "\n",
        "# Check if the images are loaded correctly\n",
        "if img1 is None or img2 is None:\n",
        "    print(\"Error loading images\")\n",
        "    exit()\n",
        "\n",
        "# Convert images to grayscale\n",
        "gray1 = cv2.cvtColor(img1, cv2.COLOR_BGR2GRAY)\n",
        "gray2 = cv2.cvtColor(img2, cv2.COLOR_BGR2GRAY)\n",
        "\n",
        "# Initialize SIFT detector\n",
        "sift = cv2.SIFT_create()\n",
        "\n",
        "# Detect keypoints and descriptors\n",
        "keypoints1, descriptors1 = sift.detectAndCompute(gray1, None)\n",
        "keypoints2, descriptors2 = sift.detectAndCompute(gray2, None)\n",
        "\n",
        "# Use BFMatcher to match descriptors\n",
        "bf = cv2.BFMatcher(cv2.NORM_L2, crossCheck=True)\n",
        "matches = bf.match(descriptors1, descriptors2)\n",
        "\n",
        "# Sort matches based on distance\n",
        "matches = sorted(matches, key=lambda x: x.distance)\n",
        "\n",
        "# Draw matches on a new image\n",
        "matched_image = cv2.drawMatches(img1, keypoints1, img2, keypoints2, matches[:20], None, flags=cv2.DrawMatchesFlags_NOT_DRAW_SINGLE_POINTS)\n",
        "\n",
        "# Compute homography\n",
        "src_pts = np.float32([keypoints1[m.queryIdx].pt for m in matches]).reshape(-1, 1, 2)\n",
        "dst_pts = np.float32([keypoints2[m.trainIdx].pt for m in matches]).reshape(-1, 1, 2)\n",
        "H, mask = cv2.findHomography(src_pts, dst_pts, cv2.RANSAC, 5.0)\n",
        "\n",
        "# Warp the first image to align it with the second\n",
        "height, width, channels = img2.shape\n",
        "img1_warped = cv2.warpPerspective(img1, H, (width + img1.shape[1], height))\n",
        "\n",
        "# Place the second image in the correct position on the canvas\n",
        "img1_warped[0:height, 0:width] = img2\n",
        "\n",
        "# Show the original images, the matched features, and the resulting panoramic image\n",
        "plt.figure(figsize=(20, 10))\n",
        "\n",
        "# Show the first image in the first subplot\n",
        "plt.subplot(2, 2, 1)\n",
        "plt.imshow(cv2.cvtColor(img1, cv2.COLOR_BGR2RGB))\n",
        "plt.title('Image 1')\n",
        "plt.axis('off')  # Hide the axes\n",
        "\n",
        "# Show the second image in the second subplot\n",
        "plt.subplot(2, 2, 2)\n",
        "plt.imshow(cv2.cvtColor(img2, cv2.COLOR_BGR2RGB))\n",
        "plt.title('Image 2')\n",
        "plt.axis('off')\n",
        "\n",
        "# Show the matched features in the third subplot\n",
        "plt.subplot(2, 2, 3)\n",
        "plt.imshow(matched_image)\n",
        "plt.title('Matched Keypoints')\n",
        "plt.axis('off')  # Hide the axes\n",
        "\n",
        "# Show the warped image in the fourth subplot\n",
        "plt.subplot(2, 2, 4)\n",
        "plt.imshow(cv2.cvtColor(img1_warped, cv2.COLOR_BGR2RGB))\n",
        "plt.title('Panorama')\n",
        "plt.axis('off')\n",
        "\n",
        "# Display all images\n",
        "plt.tight_layout()  # Adjust spacing between subplots\n",
        "plt.show()\n",
        "\n",
        "# Save the resulting image\n",
        "cv2.imwrite('/content/drive/My Drive/ADVIDEO/panorama_result.jpg', img1_warped)\n"
      ],
      "metadata": {
        "id": "Ii3dOsZVSSwe"
      },
      "execution_count": null,
      "outputs": []
    },
    {
      "cell_type": "markdown",
      "source": [
        "Redo the previous code to include new images in the panoramic view, simulating the mobile panoramic application\n"
      ],
      "metadata": {
        "id": "Ls02xzLLTaNA"
      }
    }
  ],
  "metadata": {
    "kernelspec": {
      "display_name": "Python 3",
      "language": "python",
      "name": "python3"
    },
    "language_info": {
      "codemirror_mode": {
        "name": "ipython",
        "version": 3
      },
      "file_extension": ".py",
      "mimetype": "text/x-python",
      "name": "python",
      "nbconvert_exporter": "python",
      "pygments_lexer": "ipython3",
      "version": "3.12.3"
    },
    "colab": {
      "provenance": []
    }
  },
  "nbformat": 4,
  "nbformat_minor": 0
}